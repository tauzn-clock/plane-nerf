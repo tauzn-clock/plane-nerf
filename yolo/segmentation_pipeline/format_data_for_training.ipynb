{
 "cells": [
  {
   "cell_type": "code",
   "execution_count": 36,
   "metadata": {},
   "outputs": [
    {
     "name": "stdout",
     "output_type": "stream",
     "text": [
      "The autoreload extension is already loaded. To reload it, use:\n",
      "  %reload_ext autoreload\n"
     ]
    }
   ],
   "source": [
    "%load_ext autoreload\n",
    "%autoreload 2\n",
    "%matplotlib inline"
   ]
  },
  {
   "cell_type": "code",
   "execution_count": 37,
   "metadata": {},
   "outputs": [],
   "source": [
    "import sys\n",
    "import os\n",
    "import json\n",
    "import torch\n",
    "import yaml\n",
    "import numpy as np\n",
    "import cv2\n",
    "import copy\n",
    "from pathlib import Path\n",
    "import matplotlib.pyplot as plt\n",
    "from PIL import Image"
   ]
  },
  {
   "cell_type": "code",
   "execution_count": 38,
   "metadata": {},
   "outputs": [],
   "source": [
    "DATA_PATH = \"/workspace/plane-nerf/data/jackal_floor_training_data_1\"\n",
    "\n",
    "#Delete yolo\n",
    "if os.path.exists(DATA_PATH + \"/yolo\"):\n",
    "    os.system(\"rm -rf \" + DATA_PATH + \"/yolo\")\n",
    "\n",
    "if not os.path.exists(DATA_PATH + \"/yolo\"):\n",
    "    os.makedirs(DATA_PATH + \"/yolo\")\n",
    "\n",
    "if not os.path.exists(DATA_PATH + \"/yolo/train/images\"):\n",
    "    os.makedirs(DATA_PATH + \"/yolo/train/images\")\n",
    "\n",
    "if not os.path.exists(DATA_PATH + \"/yolo/train/labels\"):\n",
    "    os.makedirs(DATA_PATH + \"/yolo/train/labels\")\n",
    "\n",
    "if not os.path.exists(DATA_PATH + \"/yolo/valid/images\"):\n",
    "    os.makedirs(DATA_PATH + \"/yolo/valid/images\")\n",
    "\n",
    "if not os.path.exists(DATA_PATH + \"/yolo/valid/labels\"):\n",
    "    os.makedirs(DATA_PATH + \"/yolo/valid/labels\")\n",
    "\n",
    "with open(DATA_PATH + \"/transforms.json\") as f:\n",
    "    transforms = json.load(f)"
   ]
  },
  {
   "cell_type": "code",
   "execution_count": 39,
   "metadata": {},
   "outputs": [],
   "source": [
    "#Create data.yaml file\n",
    "names_dictionary = {\n",
    "    0 : \"jackal\"\n",
    "}\n",
    "\n",
    "data = {\n",
    "    \"path\": DATA_PATH + \"/yolo/\",\n",
    "    \"train\": \"train/images\",\n",
    "    \"val\": \"valid/images\",\n",
    "    \"nc\": 1,\n",
    "    \"names\": [\"jackal\"]\n",
    "}\n",
    "\n",
    "with open(DATA_PATH + \"/yolo/data.yaml\", 'w') as outfile:\n",
    "    yaml.dump(data, outfile, default_flow_style=False)\n",
    "    "
   ]
  },
  {
   "cell_type": "code",
   "execution_count": 40,
   "metadata": {},
   "outputs": [],
   "source": [
    "training_ratio = 0.8\n",
    "n = len(transforms[\"frames\"])\n",
    "frames_index = list(range(n))\n",
    "np.random.shuffle(frames_index)\n",
    "\n",
    "for i in range(int(n*training_ratio)):\n",
    "    img = Image.open(DATA_PATH + \"/images/\" + str(frames_index[i]) + \".png\")\n",
    "    img.save(DATA_PATH + \"/yolo/train/images/\" + str(frames_index[i]) + \".png\")\n",
    "\n",
    "    mask = Image.open(DATA_PATH + \"/masks/\" + str(frames_index[i]) + \".png\")\n",
    "    #Find contours of mask\n",
    "    mask = np.array(mask)\n",
    "    contours, _ = cv2.findContours(mask, cv2.RETR_EXTERNAL, cv2.CHAIN_APPROX_SIMPLE)\n",
    "    #Create yolo label file for segmentation\n",
    "    with open(DATA_PATH + \"/yolo/train/labels/\" + str(frames_index[i]) + \".txt\", \"w\") as f:\n",
    "        contour_text = \"0 \"\n",
    "        for contour in contours:\n",
    "            for point in contour:\n",
    "                contour_text += str(point[0][0]) + \" \" + str(point[0][1]) + \" \"\n",
    "        \n",
    "        f.write(contour_text)\n",
    "    \n",
    "for i in range(int(n*training_ratio), n):\n",
    "    img = Image.open(DATA_PATH + \"/images/\" + str(frames_index[i]) + \".png\")\n",
    "    img.save(DATA_PATH + \"/yolo/valid/images/\" + str(frames_index[i]) + \".png\")\n",
    "\n",
    "    mask = Image.open(DATA_PATH + \"/masks/\" + str(frames_index[i]) + \".png\")\n",
    "    #Find contours of mask\n",
    "    mask = np.array(mask)\n",
    "    contours, _ = cv2.findContours(mask, cv2.RETR_EXTERNAL, cv2.CHAIN_APPROX_SIMPLE)\n",
    "    #Create yolo label file for segmentation\n",
    "    with open(DATA_PATH + \"/yolo/valid/labels/\" + str(frames_index[i]) + \".txt\", \"w\") as f:\n",
    "        contour_text = \"0 \"\n",
    "        for contour in contours:\n",
    "            for point in contour:\n",
    "                contour_text += str(point[0][0]) + \" \" + str(point[0][1]) + \" \"\n",
    "        \n",
    "        f.write(contour_text)"
   ]
  }
 ],
 "metadata": {
  "kernelspec": {
   "display_name": "Python 3",
   "language": "python",
   "name": "python3"
  },
  "language_info": {
   "codemirror_mode": {
    "name": "ipython",
    "version": 3
   },
   "file_extension": ".py",
   "mimetype": "text/x-python",
   "name": "python",
   "nbconvert_exporter": "python",
   "pygments_lexer": "ipython3",
   "version": "3.10.12"
  }
 },
 "nbformat": 4,
 "nbformat_minor": 2
}
