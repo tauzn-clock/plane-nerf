{
 "cells": [
  {
   "cell_type": "code",
   "execution_count": 6,
   "metadata": {},
   "outputs": [],
   "source": [
    "import os\n",
    "from roboflow import Roboflow"
   ]
  },
  {
   "cell_type": "code",
   "execution_count": 7,
   "metadata": {},
   "outputs": [],
   "source": [
    "#Read API key from file\n",
    "API_KEY = os.path.join(os.getcwd(), './robotflow_api.key')\n",
    "API_KEY = open(API_KEY, 'r').read().strip()\n",
    "\n",
    "PROJECT_NAME = 'jackal_detection'  \n",
    "VERSION_NUMBER = 5"
   ]
  },
  {
   "cell_type": "code",
   "execution_count": 8,
   "metadata": {},
   "outputs": [
    {
     "name": "stdout",
     "output_type": "stream",
     "text": [
      "loading Roboflow workspace...\n",
      "loading Roboflow project...\n",
      "Dependency ultralytics==8.0.134 is required but found version=8.0.203, to fix: `pip install ultralytics==8.0.134`\n"
     ]
    },
    {
     "name": "stderr",
     "output_type": "stream",
     "text": [
      "Downloading Dataset Version Zip in jackal_detection-5 to yolov8:: 100%|██████████| 11091/11091 [00:00<00:00, 12375.68it/s]"
     ]
    },
    {
     "name": "stdout",
     "output_type": "stream",
     "text": [
      "\n"
     ]
    },
    {
     "name": "stderr",
     "output_type": "stream",
     "text": [
      "\n",
      "Extracting Dataset Version Zip to jackal_detection-5 in yolov8:: 100%|██████████| 2457/2457 [00:00<00:00, 15244.19it/s]\n"
     ]
    }
   ],
   "source": [
    "#Read dataset from Roboflow\n",
    "rf = Roboflow(api_key=API_KEY)\n",
    "project = rf.workspace(\"r-9gshg\").project(PROJECT_NAME)\n",
    "dataset = project.version(VERSION_NUMBER).download(\"yolov8\")"
   ]
  }
 ],
 "metadata": {
  "kernelspec": {
   "display_name": "Python 3",
   "language": "python",
   "name": "python3"
  },
  "language_info": {
   "codemirror_mode": {
    "name": "ipython",
    "version": 3
   },
   "file_extension": ".py",
   "mimetype": "text/x-python",
   "name": "python",
   "nbconvert_exporter": "python",
   "pygments_lexer": "ipython3",
   "version": "3.8.10"
  }
 },
 "nbformat": 4,
 "nbformat_minor": 2
}
