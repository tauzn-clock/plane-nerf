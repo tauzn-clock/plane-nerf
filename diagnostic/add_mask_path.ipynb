{
 "cells": [
  {
   "cell_type": "code",
   "execution_count": 2,
   "metadata": {},
   "outputs": [],
   "source": [
    "import json\n",
    "import os"
   ]
  },
  {
   "cell_type": "code",
   "execution_count": 3,
   "metadata": {},
   "outputs": [],
   "source": [
    "ORIG_TRANSFORM = \"/workspace/plane-nerf/data/jackal_floor_evaluation_data/transforms.json\"\n",
    "TARGET_TRANSFORM = \"/workspace/plane-nerf/data/jackal_floor_evaluation_data/transforms_10.json\"\n",
    "\n",
    "with open(ORIG_TRANSFORM, \"r\") as f:\n",
    "    org = json.load(f)\n",
    "with open(TARGET_TRANSFORM, \"r\") as f:\n",
    "    target = json.load(f)"
   ]
  },
  {
   "cell_type": "code",
   "execution_count": 5,
   "metadata": {},
   "outputs": [],
   "source": [
    "for i in range(len(org[\"frames\"])):\n",
    "    target[\"frames\"][i][\"mask_path\"] = org[\"frames\"][i][\"mask_path\"]"
   ]
  },
  {
   "cell_type": "code",
   "execution_count": 6,
   "metadata": {},
   "outputs": [],
   "source": [
    "#Save target\n",
    "with open(TARGET_TRANSFORM, \"w\") as f:\n",
    "    json.dump(target, f, indent=4)"
   ]
  }
 ],
 "metadata": {
  "kernelspec": {
   "display_name": "Python 3",
   "language": "python",
   "name": "python3"
  },
  "language_info": {
   "codemirror_mode": {
    "name": "ipython",
    "version": 3
   },
   "file_extension": ".py",
   "mimetype": "text/x-python",
   "name": "python",
   "nbconvert_exporter": "python",
   "pygments_lexer": "ipython3",
   "version": "3.10.12"
  }
 },
 "nbformat": 4,
 "nbformat_minor": 2
}
