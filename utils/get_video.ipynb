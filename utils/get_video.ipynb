{
 "cells": [
  {
   "cell_type": "code",
   "execution_count": 24,
   "metadata": {},
   "outputs": [
    {
     "name": "stdout",
     "output_type": "stream",
     "text": [
      "The autoreload extension is already loaded. To reload it, use:\n",
      "  %reload_ext autoreload\n"
     ]
    }
   ],
   "source": [
    "%load_ext autoreload\n",
    "%autoreload 2\n",
    "%matplotlib inline"
   ]
  },
  {
   "cell_type": "code",
   "execution_count": 25,
   "metadata": {},
   "outputs": [],
   "source": [
    "import sys\n",
    "import os\n",
    "import json\n",
    "import torch\n",
    "import yaml\n",
    "import numpy as np\n",
    "import cv2\n",
    "from pathlib import Path\n",
    "import matplotlib.pyplot as plt\n",
    "from PIL import Image\n",
    "from nerfstudio.scripts.render import RenderCameraPath"
   ]
  },
  {
   "cell_type": "code",
   "execution_count": 26,
   "metadata": {},
   "outputs": [],
   "source": [
    "LOAD_CONFIG = \"/workspace/outputs/5_spins_with_noise/plane-nerf/2023-11-27_101812/config.yml\"\n",
    "CAMERA_PATH_FILENAME = \"/stored_data/camera_path.json\"\n",
    "OUTPUT_PATH = \"/stored_data/test_video.mp4\""
   ]
  },
  {
   "cell_type": "code",
   "execution_count": 27,
   "metadata": {},
   "outputs": [],
   "source": [
    "render = RenderCameraPath(Path(LOAD_CONFIG))\n",
    "render.camera_path_filename = Path(CAMERA_PATH_FILENAME)    \n",
    "render.output_path = Path(OUTPUT_PATH)"
   ]
  },
  {
   "cell_type": "code",
   "execution_count": 28,
   "metadata": {},
   "outputs": [
    {
     "name": "stdout",
     "output_type": "stream",
     "text": [
      "Warning: FullyFusedMLP is not supported for the selected architecture 37. Falling back to CutlassMLP. For maximum performance, raise the target GPU architecture to 75+.\n",
      "Warning: FullyFusedMLP is not supported for the selected architecture 37. Falling back to CutlassMLP. For maximum performance, raise the target GPU architecture to 75+.\n",
      "Warning: FullyFusedMLP is not supported for the selected architecture 37. Falling back to CutlassMLP. For maximum performance, raise the target GPU architecture to 75+.\n",
      "Warning: FullyFusedMLP is not supported for the selected architecture 37. Falling back to CutlassMLP. For maximum performance, raise the target GPU architecture to 75+.\n",
      "Warning: FullyFusedMLP is not supported for the selected architecture 37. Falling back to CutlassMLP. For maximum performance, raise the target GPU architecture to 75+.\n",
      "Warning: FullyFusedMLP is not supported for the selected architecture 37. Falling back to CutlassMLP. For maximum performance, raise the target GPU architecture to 75+.\n",
      "Warning: FullyFusedMLP is not supported for the selected architecture 37. Falling back to CutlassMLP. For maximum performance, raise the target GPU architecture to 75+.\n",
      "Warning: FullyFusedMLP is not supported for the selected architecture 37. Falling back to CutlassMLP. For maximum performance, raise the target GPU architecture to 75+.\n"
     ]
    },
    {
     "ename": "AssertionError",
     "evalue": "Checkpoint outputs/5_spins_with_noise/plane-nerf/2023-11-27_101812/nerfstudio_models/step-000009999.ckpt does not exist",
     "output_type": "error",
     "traceback": [
      "\u001b[0;31m---------------------------------------------------------------------------\u001b[0m",
      "\u001b[0;31mAssertionError\u001b[0m                            Traceback (most recent call last)",
      "\u001b[1;32m/workspace/plane-nerf/utils/get_video.ipynb Cell 5\u001b[0m line \u001b[0;36m1\n\u001b[0;32m----> <a href='vscode-notebook-cell://attached-container%2B7b22636f6e7461696e65724e616d65223a222f6e65726673747564696f5f31227d@ssh-remote%2Bchewbacca.robots.ox.ac.uk/workspace/plane-nerf/utils/get_video.ipynb#W4sdnNjb2RlLXJlbW90ZQ%3D%3D?line=0'>1</a>\u001b[0m render\u001b[39m.\u001b[39;49mmain()\n",
      "File \u001b[0;32m~/nerfstudio/nerfstudio/scripts/render.py:370\u001b[0m, in \u001b[0;36mRenderCameraPath.main\u001b[0;34m(self)\u001b[0m\n\u001b[1;32m    368\u001b[0m \u001b[39mdef\u001b[39;00m \u001b[39mmain\u001b[39m(\u001b[39mself\u001b[39m) \u001b[39m-\u001b[39m\u001b[39m>\u001b[39m \u001b[39mNone\u001b[39;00m:\n\u001b[1;32m    369\u001b[0m \u001b[39m    \u001b[39m\u001b[39m\"\"\"Main function.\"\"\"\u001b[39;00m\n\u001b[0;32m--> 370\u001b[0m     _, pipeline, _, _ \u001b[39m=\u001b[39m eval_setup(\n\u001b[1;32m    371\u001b[0m         \u001b[39mself\u001b[39;49m\u001b[39m.\u001b[39;49mload_config,\n\u001b[1;32m    372\u001b[0m         eval_num_rays_per_chunk\u001b[39m=\u001b[39;49m\u001b[39mself\u001b[39;49m\u001b[39m.\u001b[39;49meval_num_rays_per_chunk,\n\u001b[1;32m    373\u001b[0m         test_mode\u001b[39m=\u001b[39;49m\u001b[39m\"\u001b[39;49m\u001b[39minference\u001b[39;49m\u001b[39m\"\u001b[39;49m,\n\u001b[1;32m    374\u001b[0m     )\n\u001b[1;32m    376\u001b[0m     install_checks\u001b[39m.\u001b[39mcheck_ffmpeg_installed()\n\u001b[1;32m    378\u001b[0m     \u001b[39mwith\u001b[39;00m \u001b[39mopen\u001b[39m(\u001b[39mself\u001b[39m\u001b[39m.\u001b[39mcamera_path_filename, \u001b[39m\"\u001b[39m\u001b[39mr\u001b[39m\u001b[39m\"\u001b[39m, encoding\u001b[39m=\u001b[39m\u001b[39m\"\u001b[39m\u001b[39mutf-8\u001b[39m\u001b[39m\"\u001b[39m) \u001b[39mas\u001b[39;00m f:\n",
      "File \u001b[0;32m~/nerfstudio/nerfstudio/utils/eval_utils.py:110\u001b[0m, in \u001b[0;36meval_setup\u001b[0;34m(config_path, eval_num_rays_per_chunk, test_mode, update_config_callback)\u001b[0m\n\u001b[1;32m    107\u001b[0m pipeline\u001b[39m.\u001b[39meval()\n\u001b[1;32m    109\u001b[0m \u001b[39m# load checkpointed information\u001b[39;00m\n\u001b[0;32m--> 110\u001b[0m checkpoint_path, step \u001b[39m=\u001b[39m eval_load_checkpoint(config, pipeline)\n\u001b[1;32m    112\u001b[0m \u001b[39mreturn\u001b[39;00m config, pipeline, checkpoint_path, step\n",
      "File \u001b[0;32m~/nerfstudio/nerfstudio/utils/eval_utils.py:60\u001b[0m, in \u001b[0;36meval_load_checkpoint\u001b[0;34m(config, pipeline)\u001b[0m\n\u001b[1;32m     58\u001b[0m     load_step \u001b[39m=\u001b[39m config\u001b[39m.\u001b[39mload_step\n\u001b[1;32m     59\u001b[0m load_path \u001b[39m=\u001b[39m config\u001b[39m.\u001b[39mload_dir \u001b[39m/\u001b[39m \u001b[39mf\u001b[39m\u001b[39m\"\u001b[39m\u001b[39mstep-\u001b[39m\u001b[39m{\u001b[39;00mload_step\u001b[39m:\u001b[39;00m\u001b[39m09d\u001b[39m\u001b[39m}\u001b[39;00m\u001b[39m.ckpt\u001b[39m\u001b[39m\"\u001b[39m\n\u001b[0;32m---> 60\u001b[0m \u001b[39massert\u001b[39;00m load_path\u001b[39m.\u001b[39mexists(), \u001b[39mf\u001b[39m\u001b[39m\"\u001b[39m\u001b[39mCheckpoint \u001b[39m\u001b[39m{\u001b[39;00mload_path\u001b[39m}\u001b[39;00m\u001b[39m does not exist\u001b[39m\u001b[39m\"\u001b[39m\n\u001b[1;32m     61\u001b[0m loaded_state \u001b[39m=\u001b[39m torch\u001b[39m.\u001b[39mload(load_path, map_location\u001b[39m=\u001b[39m\u001b[39m\"\u001b[39m\u001b[39mcpu\u001b[39m\u001b[39m\"\u001b[39m)\n\u001b[1;32m     62\u001b[0m pipeline\u001b[39m.\u001b[39mload_pipeline(loaded_state[\u001b[39m\"\u001b[39m\u001b[39mpipeline\u001b[39m\u001b[39m\"\u001b[39m], loaded_state[\u001b[39m\"\u001b[39m\u001b[39mstep\u001b[39m\u001b[39m\"\u001b[39m])\n",
      "\u001b[0;31mAssertionError\u001b[0m: Checkpoint outputs/5_spins_with_noise/plane-nerf/2023-11-27_101812/nerfstudio_models/step-000009999.ckpt does not exist"
     ]
    }
   ],
   "source": [
    "render.main()"
   ]
  }
 ],
 "metadata": {
  "kernelspec": {
   "display_name": "Python 3",
   "language": "python",
   "name": "python3"
  },
  "language_info": {
   "codemirror_mode": {
    "name": "ipython",
    "version": 3
   },
   "file_extension": ".py",
   "mimetype": "text/x-python",
   "name": "python",
   "nbconvert_exporter": "python",
   "pygments_lexer": "ipython3",
   "version": "3.10.12"
  }
 },
 "nbformat": 4,
 "nbformat_minor": 2
}
