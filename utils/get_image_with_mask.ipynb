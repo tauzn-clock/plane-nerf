{
 "cells": [
  {
   "cell_type": "code",
   "execution_count": 45,
   "metadata": {},
   "outputs": [
    {
     "name": "stdout",
     "output_type": "stream",
     "text": [
      "The autoreload extension is already loaded. To reload it, use:\n",
      "  %reload_ext autoreload\n"
     ]
    }
   ],
   "source": [
    "%load_ext autoreload\n",
    "%autoreload 2\n",
    "%matplotlib inline"
   ]
  },
  {
   "cell_type": "code",
   "execution_count": 46,
   "metadata": {},
   "outputs": [],
   "source": [
    "import sys\n",
    "import os\n",
    "import json\n",
    "import torch\n",
    "import yaml\n",
    "import numpy as np\n",
    "import cv2\n",
    "import copy\n",
    "from pathlib import Path\n",
    "import matplotlib.pyplot as plt\n",
    "from PIL import Image\n",
    "from nerfstudio.utils.eval_utils import eval_setup"
   ]
  },
  {
   "cell_type": "code",
   "execution_count": 47,
   "metadata": {},
   "outputs": [],
   "source": [
    "os.chdir('/workspace/plane-nerf')\n",
    "MODEL_PATH = \"/workspace/plane-nerf/outputs/jackal_floor_training_data_1/plane-nerf-fast/2024-03-18_221148\"\n",
    "DATA_PATH = \"/workspace/plane-nerf/data/jackal_floor_evaluation_data\"\n",
    "TRANSFORM_PATH = DATA_PATH + \"/transforms_30.json\"\n",
    "with open(TRANSFORM_PATH, \"r\") as f:\n",
    "    transforms = json.load(f)"
   ]
  },
  {
   "cell_type": "code",
   "execution_count": 48,
   "metadata": {},
   "outputs": [
    {
     "name": "stderr",
     "output_type": "stream",
     "text": [
      "tiny-cuda-nn warning: FullyFusedMLP is not supported for the selected architecture 52. Falling back to CutlassMLP. For maximum performance, raise the target GPU architecture to 75+.\n",
      "tiny-cuda-nn warning: FullyFusedMLP is not supported for the selected architecture 52. Falling back to CutlassMLP. For maximum performance, raise the target GPU architecture to 75+.\n",
      "tiny-cuda-nn warning: FullyFusedMLP is not supported for the selected architecture 52. Falling back to CutlassMLP. For maximum performance, raise the target GPU architecture to 75+.\n",
      "tiny-cuda-nn warning: FullyFusedMLP is not supported for the selected architecture 52. Falling back to CutlassMLP. For maximum performance, raise the target GPU architecture to 75+.\n",
      "tiny-cuda-nn warning: FullyFusedMLP is not supported for the selected architecture 52. Falling back to CutlassMLP. For maximum performance, raise the target GPU architecture to 75+.\n",
      "tiny-cuda-nn warning: FullyFusedMLP is not supported for the selected architecture 52. Falling back to CutlassMLP. For maximum performance, raise the target GPU architecture to 75+.\n",
      "tiny-cuda-nn warning: FullyFusedMLP is not supported for the selected architecture 52. Falling back to CutlassMLP. For maximum performance, raise the target GPU architecture to 75+.\n",
      "tiny-cuda-nn warning: FullyFusedMLP is not supported for the selected architecture 52. Falling back to CutlassMLP. For maximum performance, raise the target GPU architecture to 75+.\n"
     ]
    },
    {
     "data": {
      "text/html": [
       "<pre style=\"white-space:pre;overflow-x:auto;line-height:normal;font-family:Menlo,'DejaVu Sans Mono',consolas,'Courier New',monospace\">Loading latest checkpoint from load_dir\n",
       "</pre>\n"
      ],
      "text/plain": [
       "Loading latest checkpoint from load_dir\n"
      ]
     },
     "metadata": {},
     "output_type": "display_data"
    },
    {
     "data": {
      "text/html": [
       "<pre style=\"white-space:pre;overflow-x:auto;line-height:normal;font-family:Menlo,'DejaVu Sans Mono',consolas,'Courier New',monospace\">✅ Done loading checkpoint from \n",
       "outputs/jackal_floor_training_data_1/plane-nerf-fast/<span style=\"color: #008080; text-decoration-color: #008080; font-weight: bold\">2024</span>-<span style=\"color: #008080; text-decoration-color: #008080; font-weight: bold\">03</span>-18_221148/nerfstudio_models/step-<span style=\"color: #008080; text-decoration-color: #008080; font-weight: bold\">000009999.</span>ckpt\n",
       "</pre>\n"
      ],
      "text/plain": [
       "✅ Done loading checkpoint from \n",
       "outputs/jackal_floor_training_data_1/plane-nerf-fast/\u001b[1;36m2024\u001b[0m-\u001b[1;36m03\u001b[0m-18_221148/nerfstudio_models/step-\u001b[1;36m000009999.\u001b[0mckpt\n"
      ]
     },
     "metadata": {},
     "output_type": "display_data"
    },
    {
     "data": {
      "text/html": [
       "<pre style=\"white-space:pre;overflow-x:auto;line-height:normal;font-family:Menlo,'DejaVu Sans Mono',consolas,'Courier New',monospace\">Setting up training dataset<span style=\"color: #808000; text-decoration-color: #808000\">...</span>\n",
       "</pre>\n"
      ],
      "text/plain": [
       "Setting up training dataset\u001b[33m...\u001b[0m\n"
      ]
     },
     "metadata": {},
     "output_type": "display_data"
    },
    {
     "data": {
      "text/html": [
       "<pre style=\"white-space:pre;overflow-x:auto;line-height:normal;font-family:Menlo,'DejaVu Sans Mono',consolas,'Courier New',monospace\">Caching all <span style=\"color: #008080; text-decoration-color: #008080; font-weight: bold\">300</span> images.\n",
       "</pre>\n"
      ],
      "text/plain": [
       "Caching all \u001b[1;36m300\u001b[0m images.\n"
      ]
     },
     "metadata": {},
     "output_type": "display_data"
    }
   ],
   "source": [
    "config_path = os.path.join(MODEL_PATH, \"config.yml\")\n",
    "config, pipeline, checkpoint_path, _ = eval_setup(\n",
    "                        Path(config_path),\n",
    "                        test_mode=\"inference\",\n",
    "                    )\n",
    "pipeline.eval()\n",
    "pipeline.datamanager.setup_train()"
   ]
  },
  {
   "cell_type": "code",
   "execution_count": 49,
   "metadata": {},
   "outputs": [
    {
     "name": "stdout",
     "output_type": "stream",
     "text": [
      "Cameras(camera_to_worlds=tensor([[[ 9.9999e-01,  2.5189e-03, -3.1010e-03, -6.6229e-03],\n",
      "         [-3.9735e-03,  7.0776e-01, -7.0644e-01, -9.9245e-01],\n",
      "         [ 4.1534e-04,  7.0645e-01,  7.0777e-01,  5.2963e-04]]],\n",
      "       device='cuda:0'), fx=tensor([[1128.5714]], device='cuda:0'), fy=tensor([[1128.5714]], device='cuda:0'), cx=tensor([[640.]], device='cuda:0'), cy=tensor([[360.]], device='cuda:0'), width=tensor([[1280]], device='cuda:0'), height=tensor([[720]], device='cuda:0'), distortion_params=tensor([[0., 0., 0., 0., 0., 0.]], device='cuda:0'), camera_type=tensor([[1]], device='cuda:0'), times=None, metadata={})\n",
      "tensor([[[ 0.3502,  0.6626, -0.6621, -1.6646],\n",
      "         [-0.9367,  0.2477, -0.2475, -0.6433],\n",
      "         [ 0.0000,  0.7068,  0.7074,  2.5000]]])\n",
      "tensor([[[ 3.5020e-01,  6.6230e-01, -6.6236e-01, -5.5359e-01],\n",
      "         [-9.3667e-01,  2.4811e-01, -2.4715e-01, -2.1440e-01],\n",
      "         [ 6.4714e-04,  7.0697e-01,  7.0725e-01, -1.1375e-04]]])\n",
      "tensor([[[ 3.5020e-01,  6.6230e-01, -6.6236e-01, -5.5359e-01],\n",
      "         [-9.3667e-01,  2.4811e-01, -2.4715e-01, -2.1440e-01],\n",
      "         [ 6.4714e-04,  7.0697e-01,  7.0725e-01, -1.1375e-04]]],\n",
      "       device='cuda:0')\n",
      "tensor([[1280]], device='cuda:0') tensor([[720]], device='cuda:0')\n",
      "tensor([[640.]], device='cuda:0') tensor([[360.]], device='cuda:0')\n"
     ]
    }
   ],
   "source": [
    "for camera, batch in pipeline.datamanager.fixed_indices_train_dataloader:\n",
    "    break\n",
    "\n",
    "print(camera)\n",
    "\n",
    "pose = transforms[\"frames\"][0][\"transform_matrix\"]\n",
    "\n",
    "pose = pose[:3][:4]\n",
    "pose = np.array([pose])\n",
    "pose = torch.from_numpy(pose).float().to(\"cpu\")\n",
    "print(pose)\n",
    "\n",
    "from plane_nerf.inerf_utils import transform_original_space_to_pose\n",
    "\n",
    "new_camera_pose = transform_original_space_to_pose(pose, \n",
    "                                                   pipeline.datamanager.train_dataparser_outputs.dataparser_transform,\n",
    "                                                   pipeline.datamanager.train_dataparser_outputs.dataparser_scale,\n",
    "                                                   \"opengl\")\n",
    "print(new_camera_pose)\n",
    "camera.camera_to_worlds = new_camera_pose.float().to(pipeline.model.device)\n",
    "print(camera.camera_to_worlds)\n",
    "print(camera.width,camera.height)\n",
    "print(camera.cx,camera.cy)\n",
    "\n",
    "outputs = pipeline.model.get_outputs_for_camera(camera=camera)    "
   ]
  },
  {
   "cell_type": "code",
   "execution_count": 50,
   "metadata": {},
   "outputs": [
    {
     "data": {
      "image/png": "[encoded data removed]",
      "text/plain": [
       "<Figure size 640x480 with 1 Axes>"
      ]
     },
     "metadata": {},
     "output_type": "display_data"
    }
   ],
   "source": [
    "img = outputs[\"rgb\"].cpu().numpy()\n",
    "img = img * 255\n",
    "img = img.astype(np.uint8)\n",
    "mask = cv2.imread(os.path.join(DATA_PATH, transforms[\"frames\"][0][\"mask_path\"]), cv2.IMREAD_GRAYSCALE)\n",
    "img = cv2.bitwise_and(img, img, mask=mask)\n",
    "plt.imshow(img)\n",
    "\n",
    "#Save img\n",
    "img = Image.fromarray(img)\n",
    "img.save(\"output.png\")"
   ]
  }
 ],
 "metadata": {
  "kernelspec": {
   "display_name": "Python 3",
   "language": "python",
   "name": "python3"
  },
  "language_info": {
   "codemirror_mode": {
    "name": "ipython",
    "version": 3
   },
   "file_extension": ".py",
   "mimetype": "text/x-python",
   "name": "python",
   "nbconvert_exporter": "python",
   "pygments_lexer": "ipython3",
   "version": "3.10.12"
  }
 },
 "nbformat": 4,
 "nbformat_minor": 2
}
