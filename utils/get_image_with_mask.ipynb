{
 "cells": [
  {
   "cell_type": "code",
   "execution_count": 64,
   "metadata": {},
   "outputs": [
    {
     "name": "stdout",
     "output_type": "stream",
     "text": [
      "The autoreload extension is already loaded. To reload it, use:\n",
      "  %reload_ext autoreload\n"
     ]
    }
   ],
   "source": [
    "%load_ext autoreload\n",
    "%autoreload 2\n",
    "%matplotlib inline"
   ]
  },
  {
   "cell_type": "code",
   "execution_count": 65,
   "metadata": {},
   "outputs": [],
   "source": [
    "import sys\n",
    "import os\n",
    "import json\n",
    "import torch\n",
    "import yaml\n",
    "import numpy as np\n",
    "import cv2\n",
    "import copy\n",
    "from pathlib import Path\n",
    "import matplotlib.pyplot as plt\n",
    "from PIL import Image\n",
    "from nerfstudio.utils.eval_utils import eval_setup\n",
    "from plane_nerf.inerf_utils import get_camera_intrinsic, get_origin"
   ]
  },
  {
   "cell_type": "code",
   "execution_count": 66,
   "metadata": {},
   "outputs": [],
   "source": [
    "os.chdir('/workspace/plane-nerf')\n",
    "MODEL_PATH = \"/workspace/plane-nerf/outputs/jackal_floor_training_data_1/plane-nerf-fast/2024-03-18_221148\"\n",
    "DATA_PATH = \"/workspace/plane-nerf/data/jackal_floor_evaluation_data\"\n",
    "TRANSFORM_PATH = DATA_PATH + \"/transforms.json\"\n",
    "with open(TRANSFORM_PATH, \"r\") as f:\n",
    "    transforms = json.load(f)"
   ]
  },
  {
   "cell_type": "code",
   "execution_count": 67,
   "metadata": {},
   "outputs": [
    {
     "name": "stderr",
     "output_type": "stream",
     "text": [
      "tiny-cuda-nn warning: FullyFusedMLP is not supported for the selected architecture 52. Falling back to CutlassMLP. For maximum performance, raise the target GPU architecture to 75+.\n",
      "tiny-cuda-nn warning: FullyFusedMLP is not supported for the selected architecture 52. Falling back to CutlassMLP. For maximum performance, raise the target GPU architecture to 75+.\n",
      "tiny-cuda-nn warning: FullyFusedMLP is not supported for the selected architecture 52. Falling back to CutlassMLP. For maximum performance, raise the target GPU architecture to 75+.\n",
      "tiny-cuda-nn warning: FullyFusedMLP is not supported for the selected architecture 52. Falling back to CutlassMLP. For maximum performance, raise the target GPU architecture to 75+.\n",
      "tiny-cuda-nn warning: FullyFusedMLP is not supported for the selected architecture 52. Falling back to CutlassMLP. For maximum performance, raise the target GPU architecture to 75+.\n",
      "tiny-cuda-nn warning: FullyFusedMLP is not supported for the selected architecture 52. Falling back to CutlassMLP. For maximum performance, raise the target GPU architecture to 75+.\n",
      "tiny-cuda-nn warning: FullyFusedMLP is not supported for the selected architecture 52. Falling back to CutlassMLP. For maximum performance, raise the target GPU architecture to 75+.\n",
      "tiny-cuda-nn warning: FullyFusedMLP is not supported for the selected architecture 52. Falling back to CutlassMLP. For maximum performance, raise the target GPU architecture to 75+.\n"
     ]
    },
    {
     "data": {
      "text/html": [
       "<pre style=\"white-space:pre;overflow-x:auto;line-height:normal;font-family:Menlo,'DejaVu Sans Mono',consolas,'Courier New',monospace\">Loading latest checkpoint from load_dir\n",
       "</pre>\n"
      ],
      "text/plain": [
       "Loading latest checkpoint from load_dir\n"
      ]
     },
     "metadata": {},
     "output_type": "display_data"
    },
    {
     "data": {
      "text/html": [
       "<pre style=\"white-space:pre;overflow-x:auto;line-height:normal;font-family:Menlo,'DejaVu Sans Mono',consolas,'Courier New',monospace\">✅ Done loading checkpoint from \n",
       "outputs/jackal_floor_training_data_1/plane-nerf-fast/<span style=\"color: #008080; text-decoration-color: #008080; font-weight: bold\">2024</span>-<span style=\"color: #008080; text-decoration-color: #008080; font-weight: bold\">03</span>-18_221148/nerfstudio_models/step-<span style=\"color: #008080; text-decoration-color: #008080; font-weight: bold\">000009999.</span>ckpt\n",
       "</pre>\n"
      ],
      "text/plain": [
       "✅ Done loading checkpoint from \n",
       "outputs/jackal_floor_training_data_1/plane-nerf-fast/\u001b[1;36m2024\u001b[0m-\u001b[1;36m03\u001b[0m-18_221148/nerfstudio_models/step-\u001b[1;36m000009999.\u001b[0mckpt\n"
      ]
     },
     "metadata": {},
     "output_type": "display_data"
    },
    {
     "data": {
      "text/html": [
       "<pre style=\"white-space:pre;overflow-x:auto;line-height:normal;font-family:Menlo,'DejaVu Sans Mono',consolas,'Courier New',monospace\">Setting up training dataset<span style=\"color: #808000; text-decoration-color: #808000\">...</span>\n",
       "</pre>\n"
      ],
      "text/plain": [
       "Setting up training dataset\u001b[33m...\u001b[0m\n"
      ]
     },
     "metadata": {},
     "output_type": "display_data"
    },
    {
     "data": {
      "text/html": [
       "<pre style=\"white-space:pre;overflow-x:auto;line-height:normal;font-family:Menlo,'DejaVu Sans Mono',consolas,'Courier New',monospace\">Caching all <span style=\"color: #008080; text-decoration-color: #008080; font-weight: bold\">300</span> images.\n",
       "</pre>\n"
      ],
      "text/plain": [
       "Caching all \u001b[1;36m300\u001b[0m images.\n"
      ]
     },
     "metadata": {},
     "output_type": "display_data"
    }
   ],
   "source": [
    "config_path = os.path.join(MODEL_PATH, \"config.yml\")\n",
    "config, pipeline, checkpoint_path, _ = eval_setup(\n",
    "                        Path(config_path),\n",
    "                        test_mode=\"inference\",\n",
    "                    )\n",
    "pipeline.eval()\n",
    "pipeline.datamanager.setup_train()"
   ]
  },
  {
   "cell_type": "code",
   "execution_count": 68,
   "metadata": {},
   "outputs": [
    {
     "name": "stdout",
     "output_type": "stream",
     "text": [
      "Cameras(camera_to_worlds=tensor([[[ 9.9999e-01,  2.5189e-03, -3.1010e-03, -6.6229e-03],\n",
      "         [-3.9735e-03,  7.0776e-01, -7.0644e-01, -9.9245e-01],\n",
      "         [ 4.1534e-04,  7.0645e-01,  7.0777e-01,  5.2963e-04]]],\n",
      "       device='cuda:0'), fx=tensor([[1128.5714]], device='cuda:0'), fy=tensor([[1128.5714]], device='cuda:0'), cx=tensor([[640.]], device='cuda:0'), cy=tensor([[360.]], device='cuda:0'), width=tensor([[1280]], device='cuda:0'), height=tensor([[720]], device='cuda:0'), distortion_params=tensor([[0., 0., 0., 0., 0., 0.]], device='cuda:0'), camera_type=tensor([[1]], device='cuda:0'), times=None, metadata={})\n",
      "tensor([[[ 0.7716,  0.4500, -0.4496, -1.4164],\n",
      "         [-0.6361,  0.5458, -0.5454, -1.4354],\n",
      "         [ 0.0000,  0.7068,  0.7074,  2.5000]]])\n",
      "tensor([[[ 7.7162e-01,  4.4966e-01, -4.4989e-01, -4.7102e-01],\n",
      "         [-6.3608e-01,  5.4622e-01, -5.4502e-01, -4.7795e-01],\n",
      "         [ 6.6004e-04,  7.0672e-01,  7.0749e-01,  6.1792e-05]]])\n",
      "tensor([[[ 7.7162e-01,  4.4966e-01, -4.4989e-01, -4.7102e-01],\n",
      "         [-6.3608e-01,  5.4622e-01, -5.4502e-01, -4.7795e-01],\n",
      "         [ 6.6004e-04,  7.0672e-01,  7.0749e-01,  6.1792e-05]]],\n",
      "       device='cuda:0')\n",
      "tensor([[1280]], device='cuda:0') tensor([[720]], device='cuda:0')\n",
      "tensor([[640.]], device='cuda:0') tensor([[360.]], device='cuda:0')\n"
     ]
    }
   ],
   "source": [
    "for camera, batch in pipeline.datamanager.fixed_indices_train_dataloader:\n",
    "    break\n",
    "\n",
    "print(camera)\n",
    "\n",
    "pose = transforms[\"frames\"][0][\"transform_matrix\"]\n",
    "\n",
    "pose = pose[:3][:4]\n",
    "pose = np.array([pose])\n",
    "pose = torch.from_numpy(pose).float().to(\"cpu\")\n",
    "print(pose)\n",
    "\n",
    "from plane_nerf.inerf_utils import transform_original_space_to_pose\n",
    "\n",
    "new_camera_pose = transform_original_space_to_pose(pose, \n",
    "                                                   pipeline.datamanager.train_dataparser_outputs.dataparser_transform,\n",
    "                                                   pipeline.datamanager.train_dataparser_outputs.dataparser_scale,\n",
    "                                                   \"opengl\")\n",
    "print(new_camera_pose)\n",
    "camera.camera_to_worlds = new_camera_pose.float().to(pipeline.model.device)\n",
    "print(camera.camera_to_worlds)\n",
    "print(camera.width,camera.height)\n",
    "print(camera.cx,camera.cy)\n",
    "\n",
    "outputs = pipeline.model.get_outputs_for_camera(camera=camera)    "
   ]
  },
  {
   "cell_type": "code",
   "execution_count": 69,
   "metadata": {},
   "outputs": [
    {
     "data": {
      "image/png": "[encoded data removed]",
      "text/plain": [
       "<Figure size 640x480 with 1 Axes>"
      ]
     },
     "metadata": {},
     "output_type": "display_data"
    }
   ],
   "source": [
    "img = outputs[\"rgb\"].cpu().numpy()\n",
    "img = img * 255\n",
    "img = img.astype(np.uint8)\n",
    "mask = cv2.imread(os.path.join(DATA_PATH, transforms[\"frames\"][0][\"mask_path\"]), cv2.IMREAD_GRAYSCALE)\n",
    "img = cv2.bitwise_and(img, img, mask=mask)\n",
    "\n",
    "#Find mask centroid\n",
    "M = cv2.moments(mask)\n",
    "cx = int(M[\"m10\"] / M[\"m00\"])\n",
    "cy = int(M[\"m01\"] / M[\"m00\"])\n",
    "#Draw red circle at centroid\n",
    "img = cv2.circle(img, (cx, cy), 5, (0, 0, 255), -1)\n",
    "\n",
    "#Draw green circle around centroid\n",
    "img = cv2.circle(img, (cx, cy), 50, (0, 255, 0), 2)\n",
    "\n",
    "#Find orign pixel\n",
    "intrinsic = get_camera_intrinsic(camera)\n",
    "torch_pose = np.array(pose)\n",
    "torch_pose = np.concatenate((torch_pose[0], np.array([[0,0,0,1]])), axis=0)\n",
    "torch_pose = np.array([torch_pose])\n",
    "torch_pose = torch.from_numpy(torch_pose).float().to(\"cpu\")\n",
    "origin = get_origin(torch_pose, intrinsic)\n",
    "origin = origin.cpu().numpy()[0]\n",
    "img = cv2.circle(img, (int(origin[0]), int(origin[1])), 5, (255, 0, 0), -1)\n",
    "plt.imshow(img)\n",
    "\n",
    "#Save img\n",
    "img = Image.fromarray(img)\n",
    "img.save(\"output.png\")"
   ]
  }
 ],
 "metadata": {
  "kernelspec": {
   "display_name": "Python 3",
   "language": "python",
   "name": "python3"
  },
  "language_info": {
   "codemirror_mode": {
    "name": "ipython",
    "version": 3
   },
   "file_extension": ".py",
   "mimetype": "text/x-python",
   "name": "python",
   "nbconvert_exporter": "python",
   "pygments_lexer": "ipython3",
   "version": "3.10.12"
  }
 },
 "nbformat": 4,
 "nbformat_minor": 2
}
