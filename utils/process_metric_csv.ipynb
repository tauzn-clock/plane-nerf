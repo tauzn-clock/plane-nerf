{
 "cells": [
  {
   "cell_type": "code",
   "execution_count": 36,
   "metadata": {},
   "outputs": [
    {
     "name": "stdout",
     "output_type": "stream",
     "text": [
      "The autoreload extension is already loaded. To reload it, use:\n",
      "  %reload_ext autoreload\n"
     ]
    }
   ],
   "source": [
    "%load_ext autoreload\n",
    "%autoreload 2\n",
    "%matplotlib inline"
   ]
  },
  {
   "cell_type": "code",
   "execution_count": 37,
   "metadata": {},
   "outputs": [],
   "source": [
    "import os\n",
    "import json\n",
    "import numpy as np\n",
    "from pathlib import Path\n",
    "import matplotlib.pyplot as plt\n",
    "from PIL import Image"
   ]
  },
  {
   "cell_type": "code",
   "execution_count": 38,
   "metadata": {},
   "outputs": [
    {
     "name": "stdout",
     "output_type": "stream",
     "text": [
      "Mean PSNR: [17.87510854 18.59955485 19.89728035 21.37453201 22.07528126 21.1005955\n",
      " 21.73841234 21.51014957 22.51359627]\n",
      "Mean SSIM: [0.59736405 0.54608289 0.50962966 0.39365908 0.38441536 0.48118239\n",
      " 0.46679493 0.45574991 0.38507172]\n",
      "Mean LPIPS: [0.65824265 0.61158534 0.76303492 0.89264521 0.87741688 0.87800776\n",
      " 0.87447722 0.86947715 0.88050752]\n"
     ]
    }
   ],
   "source": [
    "FILE_PATH = [\n",
    "    \"/workspace/plane-nerf/outputs/jackal_training_data_0/plane-nerf/2024-02-27_170140/metrics.csv\",\n",
    "    \"/workspace/plane-nerf/outputs/jackal_training_data_1/plane-nerf/2024-02-27_113348/metrics.csv\",\n",
    "    \"/workspace/plane-nerf/outputs/jackal_training_data_2/plane-nerf/2024-02-27_133004/metrics.csv\",\n",
    "    \"/workspace/plane-nerf/outputs/jackal_training_data_5/plane-nerf/2024-02-27_142300/metrics.csv\",\n",
    "    \"/workspace/plane-nerf/outputs/jackal_training_data_10/plane-nerf/2024-02-27_153507/metrics.csv\",\n",
    "    \"/workspace/plane-nerf/outputs/jackal_training_data_1/plane-nerf/2024-02-27_214558/metrics.csv\",\n",
    "    \"/workspace/plane-nerf/outputs/jackal_training_data_2/plane-nerf/2024-02-27_222927/metrics.csv\",\n",
    "    \"/workspace/plane-nerf/outputs/jackal_training_data_5/plane-nerf/2024-02-28_094653/metrics.csv\",\n",
    "    \"/workspace/plane-nerf/outputs/jackal_training_data_10/plane-nerf/2024-02-28_102732/metrics.csv\"\n",
    "]\n",
    "# Open csv file as np array\n",
    "data = []\n",
    "for i in range(len(FILE_PATH)):\n",
    "    data.append(np.genfromtxt(FILE_PATH[i], delimiter=',', skip_header=1, names=['psnr', 'ssim', 'lpips']))\n",
    "    data[i] = np.array([list(data[i][j]) for j in range(len(data[i]))])\n",
    "data = np.array(data)\n",
    "# Mean PSNR\n",
    "mean_psnr = np.mean(data[:,:,0], axis=1)\n",
    "# Mean SSIM\n",
    "mean_ssim = np.mean(data[:,:,1], axis=1)\n",
    "# Mean LPIPS\n",
    "mean_lpips = np.mean(data[:,:,2], axis=1)\n",
    "print(f\"Mean PSNR: {mean_psnr}\")\n",
    "print(f\"Mean SSIM: {mean_ssim}\")\n",
    "print(f\"Mean LPIPS: {mean_lpips}\")"
   ]
  },
  {
   "cell_type": "code",
   "execution_count": null,
   "metadata": {},
   "outputs": [],
   "source": []
  }
 ],
 "metadata": {
  "kernelspec": {
   "display_name": "Python 3",
   "language": "python",
   "name": "python3"
  },
  "language_info": {
   "codemirror_mode": {
    "name": "ipython",
    "version": 3
   },
   "file_extension": ".py",
   "mimetype": "text/x-python",
   "name": "python",
   "nbconvert_exporter": "python",
   "pygments_lexer": "ipython3",
   "version": "3.10.12"
  }
 },
 "nbformat": 4,
 "nbformat_minor": 2
}
