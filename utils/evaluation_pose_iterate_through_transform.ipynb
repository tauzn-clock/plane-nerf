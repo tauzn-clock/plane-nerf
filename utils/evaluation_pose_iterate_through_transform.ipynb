{
 "cells": [
  {
   "cell_type": "code",
   "execution_count": 6,
   "metadata": {},
   "outputs": [
    {
     "name": "stdout",
     "output_type": "stream",
     "text": [
      "The autoreload extension is already loaded. To reload it, use:\n",
      "  %reload_ext autoreload\n"
     ]
    }
   ],
   "source": [
    "%load_ext autoreload\n",
    "%autoreload 2\n",
    "%matplotlib inline"
   ]
  },
  {
   "cell_type": "code",
   "execution_count": 7,
   "metadata": {},
   "outputs": [],
   "source": [
    "import os\n",
    "import json\n",
    "import torch\n",
    "import numpy as np\n",
    "import time\n",
    "from pathlib import Path\n",
    "import matplotlib.pyplot as plt\n",
    "from IPython.display import clear_output\n",
    "from nerfstudio.utils.eval_utils import eval_setup\n",
    "from plane_nerf.inerf_trainer import load_data_into_trainer\n",
    "from plane_nerf.inerf_utils import load_eval_image_into_pipeline, inerf\n"
   ]
  },
  {
   "cell_type": "code",
   "execution_count": 8,
   "metadata": {},
   "outputs": [
    {
     "name": "stdout",
     "output_type": "stream",
     "text": [
      "Warning: FullyFusedMLP is not supported for the selected architecture 37. Falling back to CutlassMLP. For maximum performance, raise the target GPU architecture to 75+.\n",
      "Warning: FullyFusedMLP is not supported for the selected architecture 37. Falling back to CutlassMLP. For maximum performance, raise the target GPU architecture to 75+.\n",
      "Warning: FullyFusedMLP is not supported for the selected architecture 37. Falling back to CutlassMLP. For maximum performance, raise the target GPU architecture to 75+.\n",
      "Warning: FullyFusedMLP is not supported for the selected architecture 37. Falling back to CutlassMLP. For maximum performance, raise the target GPU architecture to 75+.\n",
      "Warning: FullyFusedMLP is not supported for the selected architecture 37. Falling back to CutlassMLP. For maximum performance, raise the target GPU architecture to 75+.\n",
      "Warning: FullyFusedMLP is not supported for the selected architecture 37. Falling back to CutlassMLP. For maximum performance, raise the target GPU architecture to 75+.\n",
      "Warning: FullyFusedMLP is not supported for the selected architecture 37. Falling back to CutlassMLP. For maximum performance, raise the target GPU architecture to 75+.\n",
      "Warning: FullyFusedMLP is not supported for the selected architecture 37. Falling back to CutlassMLP. For maximum performance, raise the target GPU architecture to 75+.\n"
     ]
    },
    {
     "data": {
      "text/html": [
       "<pre style=\"white-space:pre;overflow-x:auto;line-height:normal;font-family:Menlo,'DejaVu Sans Mono',consolas,'Courier New',monospace\">Loading latest checkpoint from load_dir\n",
       "</pre>\n"
      ],
      "text/plain": [
       "Loading latest checkpoint from load_dir\n"
      ]
     },
     "metadata": {},
     "output_type": "display_data"
    },
    {
     "data": {
      "text/html": [
       "<pre style=\"white-space:pre;overflow-x:auto;line-height:normal;font-family:Menlo,'DejaVu Sans Mono',consolas,'Courier New',monospace\">✅ Done loading checkpoint from \n",
       "outputs/jackal_color_wheel_training_data_1/plane-nerf/<span style=\"color: #008080; text-decoration-color: #008080; font-weight: bold\">2024</span>-<span style=\"color: #008080; text-decoration-color: #008080; font-weight: bold\">02</span>-19_174621/nerfstudio_models/step-<span style=\"color: #008080; text-decoration-color: #008080; font-weight: bold\">000009999.</span>ckpt\n",
       "</pre>\n"
      ],
      "text/plain": [
       "✅ Done loading checkpoint from \n",
       "outputs/jackal_color_wheel_training_data_1/plane-nerf/\u001b[1;36m2024\u001b[0m-\u001b[1;36m02\u001b[0m-19_174621/nerfstudio_models/step-\u001b[1;36m000009999.\u001b[0mckpt\n"
      ]
     },
     "metadata": {},
     "output_type": "display_data"
    }
   ],
   "source": [
    "os.chdir('/workspace')\n",
    "MODEL_PATH = \"/workspace/outputs/jackal_color_wheel_training_data_1/plane-nerf/2024-02-19_174621\"\n",
    "DATA_PATH = \"/stored_data/jackal_color_wheel_evaluation_data\"\n",
    "GROUND_TRUTH_PATH = os.path.join(DATA_PATH, \"ground_truth.json\")\n",
    "SAVE_FILE_NAME = \"eval_results_\"+str(time.strftime(\"%Y-%m-%d_%H%M%S\"))+\".csv\"\n",
    "\n",
    "config_path = os.path.join(MODEL_PATH, \"config.yml\")\n",
    "config, pipeline, _, _ = eval_setup(\n",
    "                        Path(config_path),\n",
    "                        test_mode=\"inference\",\n",
    "                    )\n",
    "transform_file_path = \"transforms_10.json\"\n",
    "with open(os.path.join(DATA_PATH, transform_file_path)) as f:\n",
    "    transform = json.load(f)\n",
    "\n",
    "with open(GROUND_TRUTH_PATH) as f:\n",
    "    ground_truth = json.load(f)\n",
    "\n"
   ]
  },
  {
   "cell_type": "code",
   "execution_count": 9,
   "metadata": {},
   "outputs": [
    {
     "name": "stdout",
     "output_type": "stream",
     "text": [
      "0\n",
      "{'focal_length': 4.74, 'pixel_width': 0.0042, 'pixel_height': 0.0042, 'w': 1280, 'h': 720, 'fov_x': 1.031736666064982, 'fl_x': 1128.5714285714287, 'fl_y': 1128.5714285714287, 'cx': 640, 'cy': 360, 'camera_model': 'OPENCV', 'frames': [{'file_path': 'images/0.png', 'transform_matrix': [[0.871743250061576, 0.33310636090871326, -0.3593102535333985, -1.5590494636744023], [-0.4894834370576362, 0.6245205167954374, -0.6085886040239361, -2.3829222778838326], [0.02167189004965052, 0.7064094254918419, 0.7074715914847479, 2.5], [0.0, 0.0, 0.0, 1.0]], 'mask_path': 'masks/0.png'}]}\n",
      "tensor([[[ 0.7735,  0.4365, -0.4595, -1.8563],\n",
      "         [-0.6334,  0.5572, -0.5369, -2.0390],\n",
      "         [ 0.0217,  0.7064,  0.7075,  2.5000]]], device='cuda:0',\n",
      "       dtype=torch.float64)\n",
      "Number of keypoints:  87\n",
      "Number of rays:  4275\n",
      "Reduce the number of rays\n",
      "Final number of rays:  4096\n",
      "Average translation error:  tensor(0.1000, device='cuda:0', dtype=torch.float64, grad_fn=<MeanBackward0>)\n",
      "Average rotation error:  tensor(0.1745, device='cuda:0', dtype=torch.float64, grad_fn=<MeanBackward0>)\n",
      "Average translation error:  tensor(0.1024, device='cuda:0', dtype=torch.float64, grad_fn=<MeanBackward0>)\n",
      "Average rotation error:  tensor(0.1755, device='cuda:0', dtype=torch.float64, grad_fn=<MeanBackward0>)\n",
      "Average translation error:  tensor(0.1022, device='cuda:0', dtype=torch.float64, grad_fn=<MeanBackward0>)\n",
      "Average rotation error:  tensor(0.1764, device='cuda:0', dtype=torch.float64, grad_fn=<MeanBackward0>)\n",
      "Average translation error:  tensor(0.1014, device='cuda:0', dtype=torch.float64, grad_fn=<MeanBackward0>)\n",
      "Average rotation error:  tensor(0.1772, device='cuda:0', dtype=torch.float64, grad_fn=<MeanBackward0>)\n",
      "Average translation error:  tensor(0.1005, device='cuda:0', dtype=torch.float64, grad_fn=<MeanBackward0>)\n",
      "Average rotation error:  tensor(0.1781, device='cuda:0', dtype=torch.float64, grad_fn=<MeanBackward0>)\n",
      "Average translation error:  tensor(0.0996, device='cuda:0', dtype=torch.float64, grad_fn=<MeanBackward0>)\n",
      "Average rotation error:  tensor(0.1789, device='cuda:0', dtype=torch.float64, grad_fn=<MeanBackward0>)\n",
      "Average translation error:  tensor(0.0985, device='cuda:0', dtype=torch.float64, grad_fn=<MeanBackward0>)\n",
      "Average rotation error:  tensor(0.1799, device='cuda:0', dtype=torch.float64, grad_fn=<MeanBackward0>)\n",
      "Average translation error:  tensor(0.0978, device='cuda:0', dtype=torch.float64, grad_fn=<MeanBackward0>)\n",
      "Average rotation error:  tensor(0.1808, device='cuda:0', dtype=torch.float64, grad_fn=<MeanBackward0>)\n",
      "Average translation error:  tensor(0.0975, device='cuda:0', dtype=torch.float64, grad_fn=<MeanBackward0>)\n",
      "Average rotation error:  tensor(0.1818, device='cuda:0', dtype=torch.float64, grad_fn=<MeanBackward0>)\n",
      "Average translation error:  tensor(0.0984, device='cuda:0', dtype=torch.float64, grad_fn=<MeanBackward0>)\n",
      "Average rotation error:  tensor(0.1827, device='cuda:0', dtype=torch.float64, grad_fn=<MeanBackward0>)\n",
      "Average translation error:  tensor(0.0997, device='cuda:0', dtype=torch.float64, grad_fn=<MeanBackward0>)\n",
      "Average rotation error:  tensor(0.1836, device='cuda:0', dtype=torch.float64, grad_fn=<MeanBackward0>)\n",
      "Average translation error:  tensor(0.1010, device='cuda:0', dtype=torch.float64, grad_fn=<MeanBackward0>)\n",
      "Average rotation error:  tensor(0.1844, device='cuda:0', dtype=torch.float64, grad_fn=<MeanBackward0>)\n",
      "Average translation error:  tensor(0.1022, device='cuda:0', dtype=torch.float64, grad_fn=<MeanBackward0>)\n",
      "Average rotation error:  tensor(0.1850, device='cuda:0', dtype=torch.float64, grad_fn=<MeanBackward0>)\n",
      "Average translation error:  tensor(0.1042, device='cuda:0', dtype=torch.float64, grad_fn=<MeanBackward0>)\n",
      "Average rotation error:  tensor(0.1856, device='cuda:0', dtype=torch.float64, grad_fn=<MeanBackward0>)\n",
      "Average translation error:  tensor(0.1071, device='cuda:0', dtype=torch.float64, grad_fn=<MeanBackward0>)\n",
      "Average rotation error:  tensor(0.1862, device='cuda:0', dtype=torch.float64, grad_fn=<MeanBackward0>)\n"
     ]
    }
   ],
   "source": [
    "output = []\n",
    "\n",
    "for f in range(len(transform[\"frames\"])):\n",
    "    transform_dup = transform.copy()\n",
    "    transform_dup[\"frames\"] = [transform[\"frames\"][f]]\n",
    "        \n",
    "    pipeline = load_eval_image_into_pipeline(pipeline,DATA_PATH,transform_dup)\n",
    "\n",
    "    config.pipeline.datamanager.pixel_sampler.num_rays_per_batch = 4096 \n",
    "\n",
    "    trainer = load_data_into_trainer(\n",
    "        config,\n",
    "        pipeline,\n",
    "        plane_optimizer = True\n",
    "    )\n",
    "    trainer.pipeline.datamanager.KERNEL_SIZE = 5\n",
    "    trainer.pipeline.datamanager.THRESHOLD = 40\n",
    "    trainer.pipeline.datamanager.METHOD = \"sift\"\n",
    "\n",
    "    clear_output(wait=True)\n",
    "    print(f)\n",
    "\n",
    "    tf = ground_truth[\"frames\"][f][\"transform_matrix\"]\n",
    "    tf = np.asarray(tf)\n",
    "    tf = tf[:3, :4 ]\n",
    "    ground_truth_poses = [tf]\n",
    "    ground_truth_poses = torch.tensor(ground_truth_poses).to(pipeline.device)\n",
    "    \n",
    "    ans = inerf(trainer, ITERATION=1000, GROUND_TRUTH_POSE=ground_truth_poses)\n",
    "    output.append(ans[\"store\"].detach().cpu().numpy().flatten())\n",
    "    np.savetxt(os.path.join(MODEL_PATH,SAVE_FILE_NAME), np.asarray(output), delimiter=\",\")"
   ]
  },
  {
   "cell_type": "code",
   "execution_count": null,
   "metadata": {},
   "outputs": [
    {
     "name": "stdout",
     "output_type": "stream",
     "text": [
      "tensor([[1.0000e+00, 1.5429e-07, 6.4541e-05],\n",
      "        [2.0000e+00, 4.9489e-03, 9.6782e-04],\n",
      "        [3.0000e+00, 9.8735e-03, 1.9926e-03],\n",
      "        ...,\n",
      "        [9.9800e+02, 1.0342e-02, 4.4622e-03],\n",
      "        [9.9900e+02, 1.0406e-02, 4.4883e-03],\n",
      "        [1.0000e+03, 1.0353e-02, 4.4483e-03]], dtype=torch.float64)\n"
     ]
    }
   ],
   "source": [
    "print(ans[\"store\"])"
   ]
  }
 ],
 "metadata": {
  "kernelspec": {
   "display_name": "Python 3",
   "language": "python",
   "name": "python3"
  },
  "language_info": {
   "codemirror_mode": {
    "name": "ipython",
    "version": 3
   },
   "file_extension": ".py",
   "mimetype": "text/x-python",
   "name": "python",
   "nbconvert_exporter": "python",
   "pygments_lexer": "ipython3",
   "version": "3.10.12"
  }
 },
 "nbformat": 4,
 "nbformat_minor": 2
}
