{
 "cells": [
  {
   "cell_type": "code",
   "execution_count": 25,
   "metadata": {},
   "outputs": [
    {
     "name": "stdout",
     "output_type": "stream",
     "text": [
      "The autoreload extension is already loaded. To reload it, use:\n",
      "  %reload_ext autoreload\n"
     ]
    }
   ],
   "source": [
    "%load_ext autoreload\n",
    "%autoreload 2\n",
    "%matplotlib inline"
   ]
  },
  {
   "cell_type": "code",
   "execution_count": 26,
   "metadata": {},
   "outputs": [],
   "source": [
    "import os\n",
    "import json\n",
    "import torch\n",
    "import numpy as np\n",
    "import cv2\n",
    "from pathlib import Path\n",
    "import matplotlib.pyplot as plt\n",
    "from nerfstudio.utils.eval_utils import eval_setup\n",
    "from plane_nerf.inerf_trainer import load_data_into_trainer\n",
    "from plane_nerf.inerf_utils import inerf_v2\n",
    "from plane_nerf.inerf_utils import load_eval_image_into_pipeline\n"
   ]
  },
  {
   "cell_type": "code",
   "execution_count": 27,
   "metadata": {},
   "outputs": [
    {
     "name": "stderr",
     "output_type": "stream",
     "text": [
      "tiny-cuda-nn warning: FullyFusedMLP is not supported for the selected architecture 52. Falling back to CutlassMLP. For maximum performance, raise the target GPU architecture to 75+.\n",
      "tiny-cuda-nn warning: FullyFusedMLP is not supported for the selected architecture 52. Falling back to CutlassMLP. For maximum performance, raise the target GPU architecture to 75+.\n",
      "tiny-cuda-nn warning: FullyFusedMLP is not supported for the selected architecture 52. Falling back to CutlassMLP. For maximum performance, raise the target GPU architecture to 75+.\n",
      "tiny-cuda-nn warning: FullyFusedMLP is not supported for the selected architecture 52. Falling back to CutlassMLP. For maximum performance, raise the target GPU architecture to 75+.\n",
      "tiny-cuda-nn warning: FullyFusedMLP is not supported for the selected architecture 52. Falling back to CutlassMLP. For maximum performance, raise the target GPU architecture to 75+.\n",
      "tiny-cuda-nn warning: FullyFusedMLP is not supported for the selected architecture 52. Falling back to CutlassMLP. For maximum performance, raise the target GPU architecture to 75+.\n",
      "tiny-cuda-nn warning: FullyFusedMLP is not supported for the selected architecture 52. Falling back to CutlassMLP. For maximum performance, raise the target GPU architecture to 75+.\n",
      "tiny-cuda-nn warning: FullyFusedMLP is not supported for the selected architecture 52. Falling back to CutlassMLP. For maximum performance, raise the target GPU architecture to 75+.\n"
     ]
    },
    {
     "data": {
      "text/html": [
       "<pre style=\"white-space:pre;overflow-x:auto;line-height:normal;font-family:Menlo,'DejaVu Sans Mono',consolas,'Courier New',monospace\">Loading latest checkpoint from load_dir\n",
       "</pre>\n"
      ],
      "text/plain": [
       "Loading latest checkpoint from load_dir\n"
      ]
     },
     "metadata": {},
     "output_type": "display_data"
    },
    {
     "data": {
      "text/html": [
       "<pre style=\"white-space:pre;overflow-x:auto;line-height:normal;font-family:Menlo,'DejaVu Sans Mono',consolas,'Courier New',monospace\">✅ Done loading checkpoint from \n",
       "outputs/jackal_floor_training_data_1/plane-nerf-fast/<span style=\"color: #008080; text-decoration-color: #008080; font-weight: bold\">2024</span>-<span style=\"color: #008080; text-decoration-color: #008080; font-weight: bold\">03</span>-18_221148/nerfstudio_models/step-<span style=\"color: #008080; text-decoration-color: #008080; font-weight: bold\">000009999.</span>ckpt\n",
       "</pre>\n"
      ],
      "text/plain": [
       "✅ Done loading checkpoint from \n",
       "outputs/jackal_floor_training_data_1/plane-nerf-fast/\u001b[1;36m2024\u001b[0m-\u001b[1;36m03\u001b[0m-18_221148/nerfstudio_models/step-\u001b[1;36m000009999.\u001b[0mckpt\n"
      ]
     },
     "metadata": {},
     "output_type": "display_data"
    },
    {
     "data": {
      "text/html": [
       "<pre style=\"white-space:pre;overflow-x:auto;line-height:normal;font-family:Menlo,'DejaVu Sans Mono',consolas,'Courier New',monospace\">Setting up training dataset<span style=\"color: #808000; text-decoration-color: #808000\">...</span>\n",
       "</pre>\n"
      ],
      "text/plain": [
       "Setting up training dataset\u001b[33m...\u001b[0m\n"
      ]
     },
     "metadata": {},
     "output_type": "display_data"
    },
    {
     "data": {
      "text/html": [
       "<pre style=\"white-space:pre;overflow-x:auto;line-height:normal;font-family:Menlo,'DejaVu Sans Mono',consolas,'Courier New',monospace\">Caching all <span style=\"color: #008080; text-decoration-color: #008080; font-weight: bold\">1</span> images.\n",
       "</pre>\n"
      ],
      "text/plain": [
       "Caching all \u001b[1;36m1\u001b[0m images.\n"
      ]
     },
     "metadata": {},
     "output_type": "display_data"
    },
    {
     "name": "stdout",
     "output_type": "stream",
     "text": [
      "Loading PlaneNerfCameraOptimizer\n"
     ]
    },
    {
     "data": {
      "text/html": [
       "<pre style=\"white-space:pre;overflow-x:auto;line-height:normal;font-family:Menlo,'DejaVu Sans Mono',consolas,'Courier New',monospace\"><span style=\"color: #7fbfbf; text-decoration-color: #7fbfbf\">[13:00:17] </span>Saving checkpoints to:                                                                         <a href=\"file:///home/user/nerfstudio/nerfstudio/engine/trainer.py\" target=\"_blank\"><span style=\"color: #7f7f7f; text-decoration-color: #7f7f7f\">trainer.py</span></a><span style=\"color: #7f7f7f; text-decoration-color: #7f7f7f\">:</span><a href=\"file:///home/user/nerfstudio/nerfstudio/engine/trainer.py#136\" target=\"_blank\"><span style=\"color: #7f7f7f; text-decoration-color: #7f7f7f\">136</span></a>\n",
       "<span style=\"color: #7fbfbf; text-decoration-color: #7fbfbf\">           </span>outputs/jackal_floor_training_data_1/plane-nerf-fast/<span style=\"color: #008080; text-decoration-color: #008080; font-weight: bold\">2024</span>-<span style=\"color: #008080; text-decoration-color: #008080; font-weight: bold\">03</span>-18_221148/nerfstudio_models       <span style=\"color: #7f7f7f; text-decoration-color: #7f7f7f\">              </span>\n",
       "</pre>\n"
      ],
      "text/plain": [
       "\u001b[2;36m[13:00:17]\u001b[0m\u001b[2;36m \u001b[0mSaving checkpoints to:                                                                         \u001b]8;id=990096;file:///home/user/nerfstudio/nerfstudio/engine/trainer.py\u001b\\\u001b[2mtrainer.py\u001b[0m\u001b]8;;\u001b\\\u001b[2m:\u001b[0m\u001b]8;id=278762;file:///home/user/nerfstudio/nerfstudio/engine/trainer.py#136\u001b\\\u001b[2m136\u001b[0m\u001b]8;;\u001b\\\n",
       "\u001b[2;36m           \u001b[0moutputs/jackal_floor_training_data_1/plane-nerf-fast/\u001b[1;36m2024\u001b[0m-\u001b[1;36m03\u001b[0m-18_221148/nerfstudio_models       \u001b[2m              \u001b[0m\n"
      ]
     },
     "metadata": {},
     "output_type": "display_data"
    },
    {
     "name": "stdout",
     "output_type": "stream",
     "text": [
      "Loading latest Nerfstudio checkpoint from load_dir...\n"
     ]
    },
    {
     "data": {
      "text/html": [
       "<pre style=\"white-space:pre;overflow-x:auto;line-height:normal;font-family:Menlo,'DejaVu Sans Mono',consolas,'Courier New',monospace\">Done loading Nerfstudio checkpoint from \n",
       "outputs/jackal_floor_training_data_1/plane-nerf-fast/<span style=\"color: #008080; text-decoration-color: #008080; font-weight: bold\">2024</span>-<span style=\"color: #008080; text-decoration-color: #008080; font-weight: bold\">03</span>-18_221148/nerfstudio_models/step-<span style=\"color: #008080; text-decoration-color: #008080; font-weight: bold\">000009999.</span>ckpt\n",
       "</pre>\n"
      ],
      "text/plain": [
       "Done loading Nerfstudio checkpoint from \n",
       "outputs/jackal_floor_training_data_1/plane-nerf-fast/\u001b[1;36m2024\u001b[0m-\u001b[1;36m03\u001b[0m-18_221148/nerfstudio_models/step-\u001b[1;36m000009999.\u001b[0mckpt\n"
      ]
     },
     "metadata": {},
     "output_type": "display_data"
    }
   ],
   "source": [
    "os.chdir('/workspace/plane-nerf')\n",
    "MODEL_PATH = \"/workspace/plane-nerf/outputs/jackal_floor_training_data_1/plane-nerf-fast/2024-03-18_221148\"\n",
    "DATA_PATH = \"/stored_data/jackal_one_frame\"\n",
    "GROUND_TRUTH_PATH = os.path.join(DATA_PATH, \"ground_truth.json\")\n",
    "config_path = os.path.join(MODEL_PATH, \"config.yml\")\n",
    "config, pipeline, _, _ = eval_setup(\n",
    "                        Path(config_path),\n",
    "                        test_mode=\"inference\",\n",
    "                    )\n",
    "transform_file_path = \"transforms.json\"\n",
    "with open(os.path.join(DATA_PATH, transform_file_path)) as f:\n",
    "    transform = json.load(f)\n",
    "\n",
    "pipeline = load_eval_image_into_pipeline(pipeline,DATA_PATH,transform)\n",
    "\n",
    "config.pipeline.datamanager.pixel_sampler.num_rays_per_batch = 4096 \n",
    "\n",
    "trainer = load_data_into_trainer(\n",
    "    config,\n",
    "    pipeline,\n",
    "    plane_optimizer = True\n",
    ")\n",
    "trainer.pipeline.datamanager.KERNEL_SIZE = 5\n",
    "trainer.pipeline.datamanager.THRESHOLD = 40\n",
    "trainer.pipeline.datamanager.METHOD = \"sift\""
   ]
  },
  {
   "cell_type": "code",
   "execution_count": 28,
   "metadata": {},
   "outputs": [
    {
     "name": "stdout",
     "output_type": "stream",
     "text": [
      "Parameter containing:\n",
      "tensor([[0., 0., 0.]], device='cuda:0', requires_grad=True)\n"
     ]
    }
   ],
   "source": [
    "print(trainer.pipeline.model.camera_optimizer.pose_adjustment)"
   ]
  },
  {
   "cell_type": "code",
   "execution_count": 29,
   "metadata": {},
   "outputs": [],
   "source": [
    "with open(GROUND_TRUTH_PATH) as f:\n",
    "    ground_truth_transform = json.load(f)\n",
    "ground_truth_poses = []\n",
    "tf = ground_truth_transform[\"frames\"][0][\"transform_matrix\"]\n",
    "tf = np.asarray(tf)\n",
    "tf = tf[:3, :4 ]\n",
    "ground_truth_poses.append(tf)\n",
    "ground_truth_poses = torch.tensor(ground_truth_poses).to(trainer.pipeline.device)"
   ]
  },
  {
   "cell_type": "code",
   "execution_count": 30,
   "metadata": {},
   "outputs": [
    {
     "name": "stdout",
     "output_type": "stream",
     "text": [
      "Number of keypoints:  126\n",
      "Number of rays:  5418\n",
      "Reduce the number of rays\n",
      "Final number of rays:  4096\n",
      "tensor([[[ 8.7173e-01,  3.3281e-01, -3.5960e-01, -5.1848e-01],\n",
      "         [-4.8947e-01,  6.2490e-01, -6.0821e-01, -7.9319e-01],\n",
      "         [ 2.2295e-02,  7.0621e-01,  7.0765e-01,  2.1123e-04]]])\n",
      "{'loss': tensor([0.0246], device='cuda:0', grad_fn=<AddBackward0>)}\n",
      "tensor([[[ 1.2901e-01,  6.9948e-01, -7.0292e-01, -9.1415e-01],\n",
      "         [-9.9139e-01,  1.0688e-01, -7.5600e-02, -7.1397e-02],\n",
      "         [ 2.2244e-02,  7.0662e-01,  7.0724e-01, -3.1245e-04]]],\n",
      "       device='cuda:0', grad_fn=<SliceBackward0>)\n",
      "Loading latest Nerfstudio checkpoint from load_dir...\n"
     ]
    },
    {
     "data": {
      "text/html": [
       "<pre style=\"white-space:pre;overflow-x:auto;line-height:normal;font-family:Menlo,'DejaVu Sans Mono',consolas,'Courier New',monospace\">Done loading Nerfstudio checkpoint from \n",
       "outputs/jackal_floor_training_data_1/plane-nerf-fast/<span style=\"color: #008080; text-decoration-color: #008080; font-weight: bold\">2024</span>-<span style=\"color: #008080; text-decoration-color: #008080; font-weight: bold\">03</span>-18_221148/nerfstudio_models/step-<span style=\"color: #008080; text-decoration-color: #008080; font-weight: bold\">000009999.</span>ckpt\n",
       "</pre>\n"
      ],
      "text/plain": [
       "Done loading Nerfstudio checkpoint from \n",
       "outputs/jackal_floor_training_data_1/plane-nerf-fast/\u001b[1;36m2024\u001b[0m-\u001b[1;36m03\u001b[0m-18_221148/nerfstudio_models/step-\u001b[1;36m000009999.\u001b[0mckpt\n"
      ]
     },
     "metadata": {},
     "output_type": "display_data"
    },
    {
     "name": "stdout",
     "output_type": "stream",
     "text": [
      "Number of keypoints:  126\n",
      "Number of rays:  5418\n",
      "Reduce the number of rays\n",
      "Final number of rays:  4096\n",
      "tensor([[[ 1.2901e-01,  6.9948e-01, -7.0292e-01, -9.1415e-01],\n",
      "         [-9.9139e-01,  1.0688e-01, -7.5600e-02, -7.1397e-02],\n",
      "         [ 2.2244e-02,  7.0662e-01,  7.0724e-01, -3.1245e-04]]],\n",
      "       device='cuda:0', grad_fn=<SliceBackward0>)\n",
      "Parameter containing:\n",
      "tensor([[0., 0., 0.]], device='cuda:0', requires_grad=True)\n",
      "Time taken for inference:  34.46771216392517\n"
     ]
    }
   ],
   "source": [
    "import time\n",
    "start = time.time()\n",
    "ans = inerf_v2(trainer,GROUND_TRUTH_POSE=ground_truth_poses)\n",
    "end = time.time()\n",
    "print(\"Time taken for inference: \", end-start)"
   ]
  },
  {
   "cell_type": "code",
   "execution_count": 31,
   "metadata": {},
   "outputs": [
    {
     "data": {
      "image/png": "[encoded data removed]",
      "text/plain": [
       "<Figure size 1500x500 with 2 Axes>"
      ]
     },
     "metadata": {},
     "output_type": "display_data"
    }
   ],
   "source": [
    "#Plot store_t_diff and store_r_diff with  respect to training iteration in 2 subplots\n",
    "\n",
    "plotting_data = np.asarray(ans[\"store\"].to(\"cpu\"))\n",
    "plt.figure(figsize=(15, 5))\n",
    "plt.subplot(1, 2, 1)\n",
    "plt.plot(plotting_data[:, 0], plotting_data[:, 1])\n",
    "plt.xlabel(\"Training iteration\")\n",
    "plt.ylabel(\"Absolute translation error\")\n",
    "plt.subplot(1, 2, 2)\n",
    "plt.plot(plotting_data[:, 0], plotting_data[:, 2])\n",
    "plt.xlabel(\"Training iteration\")\n",
    "plt.ylabel(\"Absolute rotation error\")\n",
    "plt.show()"
   ]
  },
  {
   "cell_type": "code",
   "execution_count": 32,
   "metadata": {},
   "outputs": [
    {
     "name": "stdout",
     "output_type": "stream",
     "text": [
      "tensor([[1.0000e+00, 1.4348e-03, 7.5523e-01],\n",
      "        [2.0000e+00, 5.1647e-03, 7.5423e-01],\n",
      "        [3.0000e+00, 1.0132e-02, 7.5329e-01],\n",
      "        [4.0000e+00, 1.5487e-02, 7.5248e-01],\n",
      "        [5.0000e+00, 2.1128e-02, 7.5166e-01],\n",
      "        [6.0000e+00, 2.6771e-02, 7.5086e-01],\n",
      "        [7.0000e+00, 3.2446e-02, 7.5008e-01],\n",
      "        [8.0000e+00, 3.7243e-02, 7.4953e-01],\n",
      "        [9.0000e+00, 4.0817e-02, 7.4938e-01],\n",
      "        [1.0000e+01, 4.3329e-02, 7.4958e-01],\n",
      "        [1.1000e+01, 4.4774e-02, 7.5005e-01],\n",
      "        [1.2000e+01, 4.5175e-02, 7.5068e-01],\n",
      "        [1.3000e+01, 4.4449e-02, 7.5141e-01],\n",
      "        [1.4000e+01, 4.3043e-02, 7.5222e-01],\n",
      "        [1.5000e+01, 4.1175e-02, 7.5308e-01],\n",
      "        [1.6000e+01, 3.9106e-02, 7.5396e-01],\n",
      "        [1.7000e+01, 3.7212e-02, 7.5483e-01],\n",
      "        [1.8000e+01, 3.5559e-02, 7.5568e-01],\n",
      "        [1.9000e+01, 3.4312e-02, 7.5651e-01],\n",
      "        [2.0000e+01, 3.3465e-02, 7.5731e-01],\n",
      "        [2.1000e+01, 3.2970e-02, 7.5807e-01],\n",
      "        [2.2000e+01, 3.2780e-02, 7.5881e-01],\n",
      "        [2.3000e+01, 3.2753e-02, 7.5954e-01],\n",
      "        [2.4000e+01, 3.2768e-02, 7.6030e-01],\n",
      "        [2.5000e+01, 3.2831e-02, 7.6113e-01],\n",
      "        [2.6000e+01, 3.2848e-02, 7.6203e-01],\n",
      "        [2.7000e+01, 3.2874e-02, 7.6300e-01],\n",
      "        [2.8000e+01, 3.3068e-02, 7.6401e-01],\n",
      "        [2.9000e+01, 3.3373e-02, 7.6503e-01],\n",
      "        [3.0000e+01, 3.3822e-02, 7.6604e-01],\n",
      "        [3.1000e+01, 3.4081e-02, 7.6699e-01],\n",
      "        [3.2000e+01, 3.3964e-02, 7.6788e-01],\n",
      "        [3.3000e+01, 3.3678e-02, 7.6872e-01],\n",
      "        [3.4000e+01, 3.3272e-02, 7.6954e-01],\n",
      "        [3.5000e+01, 3.2801e-02, 7.7031e-01],\n",
      "        [3.6000e+01, 3.2367e-02, 7.7108e-01],\n",
      "        [3.7000e+01, 3.2015e-02, 7.7185e-01],\n",
      "        [3.8000e+01, 3.1728e-02, 7.7265e-01],\n",
      "        [3.9000e+01, 3.1447e-02, 7.7349e-01],\n",
      "        [4.0000e+01, 3.1091e-02, 7.7439e-01],\n",
      "        [4.1000e+01, 3.0486e-02, 7.7535e-01],\n",
      "        [4.2000e+01, 2.9521e-02, 7.7634e-01],\n",
      "        [4.3000e+01, 2.8058e-02, 7.7734e-01],\n",
      "        [4.4000e+01, 2.6241e-02, 7.7833e-01],\n",
      "        [4.5000e+01, 2.4150e-02, 7.7928e-01],\n",
      "        [4.6000e+01, 2.1898e-02, 7.8021e-01],\n",
      "        [4.7000e+01, 2.0098e-02, 7.8110e-01],\n",
      "        [4.8000e+01, 1.8771e-02, 7.8192e-01],\n",
      "        [4.9000e+01, 1.7766e-02, 7.8272e-01],\n",
      "        [5.0000e+01, 1.7098e-02, 7.8351e-01],\n",
      "        [5.1000e+01, 1.6927e-02, 7.8432e-01],\n",
      "        [5.2000e+01, 1.7367e-02, 7.8512e-01],\n",
      "        [5.3000e+01, 1.8443e-02, 7.8597e-01],\n",
      "        [5.4000e+01, 1.9971e-02, 7.8684e-01],\n",
      "        [5.5000e+01, 2.1866e-02, 7.8773e-01],\n",
      "        [5.6000e+01, 2.3018e-02, 7.8851e-01],\n",
      "        [5.7000e+01, 2.2935e-02, 7.8909e-01],\n",
      "        [5.8000e+01, 2.1936e-02, 7.8948e-01],\n",
      "        [5.9000e+01, 2.0266e-02, 7.8977e-01],\n",
      "        [6.0000e+01, 1.8059e-02, 7.9003e-01],\n",
      "        [6.1000e+01, 1.5659e-02, 7.9034e-01],\n",
      "        [6.2000e+01, 1.3168e-02, 7.9071e-01],\n",
      "        [6.3000e+01, 1.0744e-02, 7.9114e-01],\n",
      "        [6.4000e+01, 8.6188e-03, 7.9159e-01],\n",
      "        [6.5000e+01, 6.9586e-03, 7.9208e-01],\n",
      "        [6.6000e+01, 5.8320e-03, 7.9257e-01],\n",
      "        [6.7000e+01, 5.1058e-03, 7.9302e-01],\n",
      "        [6.8000e+01, 4.7173e-03, 7.9340e-01],\n",
      "        [6.9000e+01, 4.5854e-03, 7.9372e-01],\n",
      "        [7.0000e+01, 4.7086e-03, 7.9402e-01],\n",
      "        [7.1000e+01, 4.9690e-03, 7.9434e-01],\n",
      "        [7.2000e+01, 5.0743e-03, 7.9469e-01],\n",
      "        [7.3000e+01, 4.8532e-03, 7.9509e-01],\n",
      "        [7.4000e+01, 4.3104e-03, 7.9551e-01],\n",
      "        [7.5000e+01, 3.4590e-03, 7.9592e-01],\n",
      "        [7.6000e+01, 2.4358e-03, 7.9629e-01],\n",
      "        [7.7000e+01, 1.4517e-03, 7.9658e-01],\n",
      "        [7.8000e+01, 5.3613e-04, 7.9678e-01],\n",
      "        [7.9000e+01, 8.0363e-04, 7.9691e-01],\n",
      "        [8.0000e+01, 1.8455e-03, 7.9702e-01],\n",
      "        [8.1000e+01, 2.7901e-03, 7.9717e-01],\n",
      "        [8.2000e+01, 3.5396e-03, 7.9737e-01],\n",
      "        [8.3000e+01, 4.1645e-03, 7.9762e-01],\n",
      "        [8.4000e+01, 4.7860e-03, 7.9790e-01],\n",
      "        [8.5000e+01, 5.3706e-03, 7.9821e-01],\n",
      "        [8.6000e+01, 5.8743e-03, 7.9855e-01],\n",
      "        [8.7000e+01, 6.2886e-03, 7.9886e-01],\n",
      "        [8.8000e+01, 6.6153e-03, 7.9913e-01],\n",
      "        [8.9000e+01, 6.8809e-03, 7.9936e-01],\n",
      "        [9.0000e+01, 7.2062e-03, 7.9956e-01],\n",
      "        [9.1000e+01, 7.6713e-03, 7.9979e-01],\n",
      "        [9.2000e+01, 8.2049e-03, 8.0002e-01],\n",
      "        [9.3000e+01, 8.8234e-03, 8.0027e-01],\n",
      "        [9.4000e+01, 9.5279e-03, 8.0050e-01],\n",
      "        [9.5000e+01, 1.0324e-02, 8.0072e-01],\n",
      "        [9.6000e+01, 1.1013e-02, 8.0095e-01],\n",
      "        [9.7000e+01, 1.1672e-02, 8.0119e-01],\n",
      "        [9.8000e+01, 1.2268e-02, 8.0141e-01],\n",
      "        [9.9000e+01, 1.2807e-02, 8.0162e-01],\n",
      "        [1.0000e+02, 1.3330e-02, 8.0186e-01],\n",
      "        [1.0100e+02, 1.3858e-02, 8.0210e-01],\n",
      "        [1.0200e+02, 1.4395e-02, 8.0233e-01],\n",
      "        [1.0300e+02, 1.4952e-02, 8.0254e-01],\n",
      "        [1.0400e+02, 1.5567e-02, 8.0274e-01],\n",
      "        [1.0500e+02, 1.6126e-02, 8.0293e-01],\n",
      "        [1.0600e+02, 1.6682e-02, 8.0315e-01],\n",
      "        [1.0700e+02, 1.7263e-02, 8.0338e-01],\n",
      "        [1.0800e+02, 1.7741e-02, 8.0365e-01],\n",
      "        [1.0900e+02, 1.8284e-02, 8.0392e-01],\n",
      "        [1.1000e+02, 1.8850e-02, 8.0417e-01],\n",
      "        [1.1100e+02, 1.9474e-02, 8.0442e-01],\n",
      "        [1.1200e+02, 2.0102e-02, 8.0465e-01],\n",
      "        [1.1300e+02, 2.0720e-02, 8.0489e-01],\n",
      "        [1.1400e+02, 2.1410e-02, 8.0513e-01],\n",
      "        [1.1500e+02, 2.2078e-02, 8.0535e-01],\n",
      "        [1.1600e+02, 2.2720e-02, 8.0561e-01],\n",
      "        [1.1700e+02, 2.3381e-02, 8.0586e-01],\n",
      "        [1.1800e+02, 2.3954e-02, 8.0611e-01],\n",
      "        [1.1900e+02, 2.4519e-02, 8.0637e-01],\n",
      "        [1.2000e+02, 2.5047e-02, 8.0662e-01],\n",
      "        [1.2100e+02, 2.5580e-02, 8.0689e-01],\n",
      "        [1.2200e+02, 2.6089e-02, 8.0714e-01],\n",
      "        [1.2300e+02, 2.6629e-02, 8.0738e-01],\n",
      "        [1.2400e+02, 2.7227e-02, 8.0761e-01],\n",
      "        [1.2500e+02, 2.7795e-02, 8.0786e-01],\n",
      "        [1.2600e+02, 2.8505e-02, 8.0814e-01],\n",
      "        [1.2700e+02, 2.9288e-02, 8.0843e-01],\n",
      "        [1.2800e+02, 3.0155e-02, 8.0873e-01],\n",
      "        [1.2900e+02, 3.1056e-02, 8.0902e-01],\n",
      "        [1.3000e+02, 3.1825e-02, 8.0933e-01],\n",
      "        [1.3100e+02, 3.2519e-02, 8.0962e-01],\n",
      "        [1.3200e+02, 3.3080e-02, 8.0993e-01],\n",
      "        [1.3300e+02, 3.3549e-02, 8.1022e-01],\n",
      "        [1.3400e+02, 3.4048e-02, 8.1049e-01],\n",
      "        [1.3500e+02, 3.4560e-02, 8.1074e-01],\n",
      "        [1.3600e+02, 3.5226e-02, 8.1102e-01],\n",
      "        [1.3700e+02, 3.6009e-02, 8.1130e-01],\n",
      "        [1.3800e+02, 3.6886e-02, 8.1158e-01],\n",
      "        [1.3900e+02, 3.7713e-02, 8.1191e-01],\n",
      "        [1.4000e+02, 3.8504e-02, 8.1226e-01],\n",
      "        [1.4100e+02, 3.9258e-02, 8.1257e-01],\n",
      "        [1.4200e+02, 3.9936e-02, 8.1286e-01],\n",
      "        [1.4300e+02, 4.0591e-02, 8.1313e-01],\n",
      "        [1.4400e+02, 4.1222e-02, 8.1341e-01],\n",
      "        [1.4500e+02, 4.1930e-02, 8.1366e-01],\n",
      "        [1.4600e+02, 4.2705e-02, 8.1393e-01],\n",
      "        [1.4700e+02, 4.3600e-02, 8.1420e-01],\n",
      "        [1.4800e+02, 4.4483e-02, 8.1447e-01],\n",
      "        [1.4900e+02, 4.5361e-02, 8.1473e-01],\n",
      "        [1.5000e+02, 4.6308e-02, 8.1500e-01],\n",
      "        [1.5100e+02, 4.7214e-02, 8.1526e-01],\n",
      "        [1.5200e+02, 4.8095e-02, 8.1555e-01],\n",
      "        [1.5300e+02, 4.8884e-02, 8.1586e-01],\n",
      "        [1.5400e+02, 4.9530e-02, 8.1621e-01],\n",
      "        [1.5500e+02, 5.0123e-02, 8.1655e-01],\n",
      "        [1.5600e+02, 5.0686e-02, 8.1689e-01],\n",
      "        [1.5700e+02, 5.1276e-02, 8.1721e-01],\n",
      "        [1.5800e+02, 5.1874e-02, 8.1752e-01],\n",
      "        [1.5900e+02, 5.2612e-02, 8.1784e-01],\n",
      "        [1.6000e+02, 5.3389e-02, 8.1816e-01],\n",
      "        [1.6100e+02, 5.4251e-02, 8.1847e-01],\n",
      "        [1.6200e+02, 5.5199e-02, 8.1875e-01],\n",
      "        [1.6300e+02, 5.6227e-02, 8.1903e-01],\n",
      "        [1.6400e+02, 5.7204e-02, 8.1932e-01],\n",
      "        [1.6500e+02, 5.8105e-02, 8.1962e-01],\n",
      "        [1.6600e+02, 5.8950e-02, 8.1993e-01],\n",
      "        [1.6700e+02, 5.9766e-02, 8.2027e-01],\n",
      "        [1.6800e+02, 6.0578e-02, 8.2058e-01],\n",
      "        [1.6900e+02, 6.1372e-02, 8.2087e-01],\n",
      "        [1.7000e+02, 6.2110e-02, 8.2118e-01],\n",
      "        [1.7100e+02, 6.2869e-02, 8.2151e-01],\n",
      "        [1.7200e+02, 6.3705e-02, 8.2187e-01],\n",
      "        [1.7300e+02, 6.4570e-02, 8.2223e-01],\n",
      "        [1.7400e+02, 6.5461e-02, 8.2258e-01],\n",
      "        [1.7500e+02, 6.6309e-02, 8.2292e-01],\n",
      "        [1.7600e+02, 6.7130e-02, 8.2326e-01],\n",
      "        [1.7700e+02, 6.7843e-02, 8.2356e-01],\n",
      "        [1.7800e+02, 6.8526e-02, 8.2390e-01],\n",
      "        [1.7900e+02, 6.9258e-02, 8.2421e-01],\n",
      "        [1.8000e+02, 7.0101e-02, 8.2451e-01],\n",
      "        [1.8100e+02, 7.1012e-02, 8.2481e-01],\n",
      "        [1.8200e+02, 7.1882e-02, 8.2513e-01],\n",
      "        [1.8300e+02, 7.2742e-02, 8.2548e-01],\n",
      "        [1.8400e+02, 7.3661e-02, 8.2589e-01],\n",
      "        [1.8500e+02, 7.4534e-02, 8.2629e-01],\n",
      "        [1.8600e+02, 7.5322e-02, 8.2670e-01],\n",
      "        [1.8700e+02, 7.6019e-02, 8.2706e-01],\n",
      "        [1.8800e+02, 7.6721e-02, 8.2740e-01],\n",
      "        [1.8900e+02, 7.7378e-02, 8.2773e-01],\n",
      "        [1.9000e+02, 7.8086e-02, 8.2805e-01],\n",
      "        [1.9100e+02, 7.8860e-02, 8.2836e-01],\n",
      "        [1.9200e+02, 7.9667e-02, 8.2869e-01],\n",
      "        [1.9300e+02, 8.0466e-02, 8.2905e-01],\n",
      "        [1.9400e+02, 8.1316e-02, 8.2942e-01],\n",
      "        [1.9500e+02, 8.2114e-02, 8.2983e-01],\n",
      "        [1.9600e+02, 8.2952e-02, 8.3024e-01],\n",
      "        [1.9700e+02, 8.3761e-02, 8.3067e-01],\n",
      "        [1.9800e+02, 8.4621e-02, 8.3108e-01],\n",
      "        [1.9900e+02, 8.5467e-02, 8.3146e-01],\n",
      "        [2.0000e+02, 8.6274e-02, 8.3182e-01]], dtype=torch.float64)\n"
     ]
    }
   ],
   "source": [
    "print(ans[\"store\"])"
   ]
  }
 ],
 "metadata": {
  "kernelspec": {
   "display_name": "Python 3",
   "language": "python",
   "name": "python3"
  },
  "language_info": {
   "codemirror_mode": {
    "name": "ipython",
    "version": 3
   },
   "file_extension": ".py",
   "mimetype": "text/x-python",
   "name": "python",
   "nbconvert_exporter": "python",
   "pygments_lexer": "ipython3",
   "version": "3.10.12"
  }
 },
 "nbformat": 4,
 "nbformat_minor": 2
}
