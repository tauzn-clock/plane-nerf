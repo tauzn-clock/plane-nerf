{
 "cells": [
  {
   "cell_type": "code",
   "execution_count": 4,
   "metadata": {},
   "outputs": [],
   "source": [
    "import os\n",
    "import json\n",
    "import numpy as np\n",
    "from pathlib import Path\n",
    "import matplotlib.pyplot as plt\n",
    "from PIL import Image"
   ]
  },
  {
   "cell_type": "code",
   "execution_count": 5,
   "metadata": {},
   "outputs": [],
   "source": [
    "MASK_1 = \"/workspace/plane-nerf/data/jackal_floor_evaluation_data/masks_yolo_footprint\"\n",
    "MASK_2 = \"/workspace/plane-nerf/data/jackal_floor_evaluation_data/footprint_masks\""
   ]
  },
  {
   "cell_type": "code",
   "execution_count": 7,
   "metadata": {},
   "outputs": [
    {
     "name": "stdout",
     "output_type": "stream",
     "text": [
      "0.849005839345288\n"
     ]
    }
   ],
   "source": [
    "n = 200\n",
    "\n",
    "avg = 0\n",
    "\n",
    "for i in range(n):\n",
    "    mask_1 = Image.open(os.path.join(MASK_1, f\"{i}.png\"))\n",
    "    mask_2 = Image.open(os.path.join(MASK_2, f\"{i}.png\"))\n",
    "    \n",
    "    #Find cross correlation\n",
    "    mask_1 = np.array(mask_1)/255\n",
    "    mask_2 = np.array(mask_2)/255\n",
    "\n",
    "    if np.sum(mask_1) == 0 or np.sum(mask_2) == 0:\n",
    "        continue\n",
    "\n",
    "    cross_correlation = np.sum(mask_1 * mask_2)\n",
    "    cross_correlation /= np.sqrt(np.sum(mask_1**2) * np.sum(mask_2**2))\n",
    "    \n",
    "    avg += cross_correlation\n",
    "\n",
    "print(avg/n)"
   ]
  }
 ],
 "metadata": {
  "kernelspec": {
   "display_name": "Python 3",
   "language": "python",
   "name": "python3"
  },
  "language_info": {
   "codemirror_mode": {
    "name": "ipython",
    "version": 3
   },
   "file_extension": ".py",
   "mimetype": "text/x-python",
   "name": "python",
   "nbconvert_exporter": "python",
   "pygments_lexer": "ipython3",
   "version": "3.10.12"
  }
 },
 "nbformat": 4,
 "nbformat_minor": 2
}
